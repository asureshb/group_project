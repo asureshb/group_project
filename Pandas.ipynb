{
 "cells": [
  {
   "cell_type": "code",
   "execution_count": 20,
   "metadata": {
    "collapsed": true
   },
   "outputs": [],
   "source": [
    "import pandas as pd\n",
    "import numpy as np"
   ]
  },
  {
   "cell_type": "code",
   "execution_count": 176,
   "metadata": {},
   "outputs": [
    {
     "name": "stdout",
     "output_type": "stream",
     "text": [
      "Total Revene 36973911\n",
      "Min Revene -1063151\n",
      "Max Revene: Mar-2012 ($ 1141606)\n"
     ]
    }
   ],
   "source": [
    "file = \"C:\\\\Users\\\\kisho\\\\Desktop\\\\UCB Bootcamp\\\\Repo\\\\03-Python\\\\Homework\\\\Instructions\\\\PyBank\\\\raw_data\\\\budget_data_2.csv\"\n",
    "file_read=pd.read_csv(file)\n",
    "file_read.head()\n",
    "# print(\"Total Months:\" + str(file_read.Date.nunique()))\n",
    "\n",
    "print(\"Total Revene \" + str(file_read.Revenue.sum()))\n",
    "print(\"Min Revene \" + str(file_read.Revenue.min()))\n",
    "a = file_read.loc[(file_read.Revenue.idxmax())]\n",
    "print(\"Max Revene: \" + str(a[0]) + \" ($ \" + str(a[1]) + \")\")\n"
   ]
  },
  {
   "cell_type": "code",
   "execution_count": 168,
   "metadata": {},
   "outputs": [
    {
     "name": "stdout",
     "output_type": "stream",
     "text": [
      "Enter the position: ST\n"
     ]
    },
    {
     "data": {
      "text/html": [
       "<div>\n",
       "<style>\n",
       "    .dataframe thead tr:only-child th {\n",
       "        text-align: right;\n",
       "    }\n",
       "\n",
       "    .dataframe thead th {\n",
       "        text-align: left;\n",
       "    }\n",
       "\n",
       "    .dataframe tbody tr th {\n",
       "        vertical-align: top;\n",
       "    }\n",
       "</style>\n",
       "<table border=\"1\" class=\"dataframe\">\n",
       "  <thead>\n",
       "    <tr style=\"text-align: right;\">\n",
       "      <th></th>\n",
       "      <th>Name</th>\n",
       "      <th>Age</th>\n",
       "      <th>Nationality</th>\n",
       "      <th>Overall</th>\n",
       "      <th>Potential</th>\n",
       "      <th>Club</th>\n",
       "      <th>Preferred Position</th>\n",
       "      <th>CAM</th>\n",
       "      <th>CB</th>\n",
       "      <th>CDM</th>\n",
       "      <th>...</th>\n",
       "      <th>RB</th>\n",
       "      <th>RCB</th>\n",
       "      <th>RCM</th>\n",
       "      <th>RDM</th>\n",
       "      <th>RF</th>\n",
       "      <th>RM</th>\n",
       "      <th>RS</th>\n",
       "      <th>RW</th>\n",
       "      <th>RWB</th>\n",
       "      <th>ST</th>\n",
       "    </tr>\n",
       "  </thead>\n",
       "  <tbody>\n",
       "    <tr>\n",
       "      <th>17980</th>\n",
       "      <td>L. Sackey</td>\n",
       "      <td>18</td>\n",
       "      <td>Ghana</td>\n",
       "      <td>46</td>\n",
       "      <td>64</td>\n",
       "      <td>Scunthorpe United</td>\n",
       "      <td>ST</td>\n",
       "      <td>29.0</td>\n",
       "      <td>45.0</td>\n",
       "      <td>38.0</td>\n",
       "      <td>...</td>\n",
       "      <td>40.0</td>\n",
       "      <td>45.0</td>\n",
       "      <td>30.0</td>\n",
       "      <td>38.0</td>\n",
       "      <td>29.0</td>\n",
       "      <td>30.0</td>\n",
       "      <td>31.0</td>\n",
       "      <td>29.0</td>\n",
       "      <td>38.0</td>\n",
       "      <td>31.0</td>\n",
       "    </tr>\n",
       "  </tbody>\n",
       "</table>\n",
       "<p>1 rows × 33 columns</p>\n",
       "</div>"
      ],
      "text/plain": [
       "            Name  Age Nationality  Overall  Potential               Club  \\\n",
       "17980  L. Sackey   18       Ghana       46         64  Scunthorpe United   \n",
       "\n",
       "      Preferred Position   CAM    CB   CDM  ...     RB   RCB   RCM   RDM  \\\n",
       "17980                 ST  29.0  45.0  38.0  ...   40.0  45.0  30.0  38.0   \n",
       "\n",
       "         RF    RM    RS    RW   RWB    ST  \n",
       "17980  29.0  30.0  31.0  29.0  38.0  31.0  \n",
       "\n",
       "[1 rows x 33 columns]"
      ]
     },
     "execution_count": 168,
     "metadata": {},
     "output_type": "execute_result"
    }
   ],
   "source": [
    "import pandas as pd\n",
    "#* Read in the `Soccer2018Data.csv` file provided\n",
    "\n",
    "file = \"C:\\\\Users\\\\kisho\\\\Desktop\\\\UCB Bootcamp\\\\Repo\\\\Sub-Activities\\\\04-Pandas\\\\2\\\\Activities\\\\05-Stu_SearchForTheWorst\\\\Resources\\\\Soccer2018Data.csv\"\n",
    "prefer_posn = input(\"Enter the position: \")\n",
    "soccer_df = pd.read_csv(file)\n",
    "# print(soccer_df.head())\n",
    "\n",
    "# Print out a list of all of the values within the \"Preferred Position\" column\n",
    "\n",
    "soccer_df[\"Preferred Position\"].unique()\n",
    "position_soccer_df = soccer_df.loc[soccer_df[\"Preferred Position\"] == prefer_posn]\n",
    "position_soccer_df.head()\n",
    "\n",
    "# Sort the DataFrame based upon a player's skill in that position\n",
    "position_soccer_df = position_soccer_df.sort_values(prefer_posn)\n",
    "position_soccer_df\n",
    "\n",
    "# Reset the index for the DataFrame so that the index is in order\n",
    "position_soccer_df.reset_index()\n",
    "\n",
    "# Print out the statistics for the worst player in that position to the screen\n",
    "worst_position_soccer_df = position_soccer_df.iloc[:1]\n",
    "worst_position_soccer_df"
   ]
  },
  {
   "cell_type": "code",
   "execution_count": 30,
   "metadata": {},
   "outputs": [
    {
     "data": {
      "text/html": [
       "<div>\n",
       "<style>\n",
       "    .dataframe thead tr:only-child th {\n",
       "        text-align: right;\n",
       "    }\n",
       "\n",
       "    .dataframe thead th {\n",
       "        text-align: left;\n",
       "    }\n",
       "\n",
       "    .dataframe tbody tr th {\n",
       "        vertical-align: top;\n",
       "    }\n",
       "</style>\n",
       "<table border=\"1\" class=\"dataframe\">\n",
       "  <thead>\n",
       "    <tr style=\"text-align: right;\">\n",
       "      <th></th>\n",
       "      <th>Name</th>\n",
       "      <th>Age</th>\n",
       "    </tr>\n",
       "  </thead>\n",
       "  <tbody>\n",
       "    <tr>\n",
       "      <th>0</th>\n",
       "      <td>kishor</td>\n",
       "      <td>10</td>\n",
       "    </tr>\n",
       "    <tr>\n",
       "      <th>1</th>\n",
       "      <td>aparna</td>\n",
       "      <td>12</td>\n",
       "    </tr>\n",
       "    <tr>\n",
       "      <th>2</th>\n",
       "      <td>Kaju</td>\n",
       "      <td>15</td>\n",
       "    </tr>\n",
       "    <tr>\n",
       "      <th>3</th>\n",
       "      <td>Kapil</td>\n",
       "      <td>20</td>\n",
       "    </tr>\n",
       "    <tr>\n",
       "      <th>4</th>\n",
       "      <td>Kavita</td>\n",
       "      <td>25</td>\n",
       "    </tr>\n",
       "    <tr>\n",
       "      <th>5</th>\n",
       "      <td>Aaashik</td>\n",
       "      <td>26</td>\n",
       "    </tr>\n",
       "    <tr>\n",
       "      <th>6</th>\n",
       "      <td>Anu</td>\n",
       "      <td>27</td>\n",
       "    </tr>\n",
       "    <tr>\n",
       "      <th>7</th>\n",
       "      <td>Archana</td>\n",
       "      <td>28</td>\n",
       "    </tr>\n",
       "  </tbody>\n",
       "</table>\n",
       "</div>"
      ],
      "text/plain": [
       "      Name  Age\n",
       "0   kishor   10\n",
       "1   aparna   12\n",
       "2     Kaju   15\n",
       "3    Kapil   20\n",
       "4   Kavita   25\n",
       "5  Aaashik   26\n",
       "6      Anu   27\n",
       "7  Archana   28"
      ]
     },
     "execution_count": 30,
     "metadata": {},
     "output_type": "execute_result"
    }
   ],
   "source": [
    "frame_df = pd.DataFrame({\"name\":[\"kishor\", \"aparna\",\"Kaju\",\"Kapil\",\"Kavita\",\"Aaashik\",\"Anu\",\"Archana\"],\n",
    "                        \"age\":[10,12,15,20,25,26,27,28]\n",
    "                        })\n",
    "frame_df.head(10)\n",
    "frame_df.columns\n",
    "frame_df_organize = frame_df[[\"name\",\"age\"]]\n",
    "frame_df_rename = frame_df_organize.rename(columns={ \"age\": \"Age\",\"name\":\"Name\"})\n",
    "frame_df_rename"
   ]
  },
  {
   "cell_type": "code",
   "execution_count": 46,
   "metadata": {},
   "outputs": [
    {
     "data": {
      "text/plain": [
       "3.3999999999999999"
      ]
     },
     "execution_count": 46,
     "metadata": {},
     "output_type": "execute_result"
    }
   ],
   "source": [
    "file = 'C:\\\\Users\\\\kisho\\\\Desktop\\\\UCB Bootcamp\\\\Repo\\\\04-pandas\\\\1\\\\Activities\\\\05-Ins_DataFunctions\\\\Resources\\\\dataSet.csv'\n",
    "file_read = pd.read_csv(file)\n",
    "\n",
    "# file_read.head(10)\n",
    "file_read[\"Amount\"].max()\n",
    "file_read[\"Amount\"].min()\n"
   ]
  },
  {
   "cell_type": "code",
   "execution_count": 7,
   "metadata": {},
   "outputs": [
    {
     "name": "stdout",
     "output_type": "stream",
     "text": [
      "What show or movie are you looking for? kids\n",
      "Spy Kids 3: Game Over is rated PG with a rating of 80\n",
      "Honey, I Shrunk the Kids is rated PG with a rating of 80\n"
     ]
    }
   ],
   "source": [
    "# Modules\n",
    "import os\n",
    "import csv\n",
    "\n",
    "# Prompt user for video lookup\n",
    "video = input(\"What show or movie are you looking for? \")\n",
    "\n",
    "# Set path for file\n",
    "csvpath = 'C:\\\\Users\\\\kisho\\\\Desktop\\\\UCB Bootcamp\\\\Repo\\\\04-pandas\\\\1\\\\Activities\\\\02-Stu_NetflixRemix\\\\Resources\\\\netflix_ratings.csv'\n",
    "\n",
    "# Bonus\n",
    "# ------------------------------------------\n",
    "# Set variable to check if we found the video\n",
    "found = False\n",
    "\n",
    "# Open the CSV\n",
    "with open(csvpath, newline=\"\") as csvfile:\n",
    "    csvreader = csv.reader(csvfile, delimiter=\",\")\n",
    "\n",
    "    # Loop through looking for the video\n",
    "    for row in csvreader:\n",
    "        if video in row[0].lower():\n",
    "            print(row[0]+ \" is rated \"+ row[1] + \" with a rating of \" + row[6])\n",
    "\n",
    "            # Set variable to confirm we have found the video\n",
    "            found = True\n",
    "\n",
    "    # If the video is never found, alert the user\n",
    "    if found == False:\n",
    "        print(\"Sorry about this, we don't seem to have what you are looking for!\")"
   ]
  },
  {
   "cell_type": "code",
   "execution_count": 35,
   "metadata": {},
   "outputs": [
    {
     "data": {
      "text/html": [
       "<div>\n",
       "<style>\n",
       "    .dataframe thead tr:only-child th {\n",
       "        text-align: right;\n",
       "    }\n",
       "\n",
       "    .dataframe thead th {\n",
       "        text-align: left;\n",
       "    }\n",
       "\n",
       "    .dataframe tbody tr th {\n",
       "        vertical-align: top;\n",
       "    }\n",
       "</style>\n",
       "<table border=\"1\" class=\"dataframe\">\n",
       "  <thead>\n",
       "    <tr style=\"text-align: right;\">\n",
       "      <th></th>\n",
       "      <th>Frame</th>\n",
       "      <th>Price</th>\n",
       "      <th>Sales</th>\n",
       "    </tr>\n",
       "  </thead>\n",
       "  <tbody>\n",
       "    <tr>\n",
       "      <th>0</th>\n",
       "      <td>Ornate</td>\n",
       "      <td>15.0</td>\n",
       "      <td>100.0</td>\n",
       "    </tr>\n",
       "    <tr>\n",
       "      <th>1</th>\n",
       "      <td>Classical</td>\n",
       "      <td>12.5</td>\n",
       "      <td>200.0</td>\n",
       "    </tr>\n",
       "    <tr>\n",
       "      <th>2</th>\n",
       "      <td>Modern</td>\n",
       "      <td>10.0</td>\n",
       "      <td>150.0</td>\n",
       "    </tr>\n",
       "    <tr>\n",
       "      <th>3</th>\n",
       "      <td>Wood</td>\n",
       "      <td>13.0</td>\n",
       "      <td>200.0</td>\n",
       "    </tr>\n",
       "    <tr>\n",
       "      <th>4</th>\n",
       "      <td>Cardboard</td>\n",
       "      <td>1.0</td>\n",
       "      <td>NaN</td>\n",
       "    </tr>\n",
       "  </tbody>\n",
       "</table>\n",
       "</div>"
      ],
      "text/plain": [
       "       Frame  Price  Sales\n",
       "0     Ornate   15.0  100.0\n",
       "1  Classical   12.5  200.0\n",
       "2     Modern   10.0  150.0\n",
       "3       Wood   13.0  200.0\n",
       "4  Cardboard    1.0    NaN"
      ]
     },
     "execution_count": 35,
     "metadata": {},
     "output_type": "execute_result"
    }
   ],
   "source": [
    "# Create a DataFrame of frames using a dictionary of lists\n",
    "frame_df = pd.DataFrame({\n",
    "    \"Frame\":[\"Ornate\",\"Classical\",\"Modern\",\"Wood\",\"Cardboard\"],\n",
    "    \"Price\":[15.00, 12.50, 10.00,13, 1.00],\n",
    "    \"Sales\":[100, 200, 150, 200, None]\n",
    "})\n",
    "frame_df"
   ]
  },
  {
   "cell_type": "code",
   "execution_count": 19,
   "metadata": {},
   "outputs": [
    {
     "data": {
      "text/html": [
       "<div>\n",
       "<style>\n",
       "    .dataframe thead tr:only-child th {\n",
       "        text-align: right;\n",
       "    }\n",
       "\n",
       "    .dataframe thead th {\n",
       "        text-align: left;\n",
       "    }\n",
       "\n",
       "    .dataframe tbody tr th {\n",
       "        vertical-align: top;\n",
       "    }\n",
       "</style>\n",
       "<table border=\"1\" class=\"dataframe\">\n",
       "  <thead>\n",
       "    <tr style=\"text-align: right;\">\n",
       "      <th></th>\n",
       "      <th>Painting</th>\n",
       "      <th>Popularity</th>\n",
       "      <th>Price</th>\n",
       "    </tr>\n",
       "  </thead>\n",
       "  <tbody>\n",
       "    <tr>\n",
       "      <th>0</th>\n",
       "      <td>Mona Lisa (Knockoff)</td>\n",
       "      <td>Very Popular</td>\n",
       "      <td>25</td>\n",
       "    </tr>\n",
       "    <tr>\n",
       "      <th>1</th>\n",
       "      <td>Van Gogh (Knockoff)</td>\n",
       "      <td>Popular</td>\n",
       "      <td>20</td>\n",
       "    </tr>\n",
       "    <tr>\n",
       "      <th>2</th>\n",
       "      <td>Starving Artist</td>\n",
       "      <td>Average</td>\n",
       "      <td>10</td>\n",
       "    </tr>\n",
       "    <tr>\n",
       "      <th>3</th>\n",
       "      <td>Toddler Drawing</td>\n",
       "      <td>Not Popular</td>\n",
       "      <td>1</td>\n",
       "    </tr>\n",
       "  </tbody>\n",
       "</table>\n",
       "</div>"
      ],
      "text/plain": [
       "               Painting    Popularity  Price\n",
       "0  Mona Lisa (Knockoff)  Very Popular     25\n",
       "1   Van Gogh (Knockoff)       Popular     20\n",
       "2       Starving Artist       Average     10\n",
       "3       Toddler Drawing   Not Popular      1"
      ]
     },
     "execution_count": 19,
     "metadata": {},
     "output_type": "execute_result"
    }
   ],
   "source": [
    "painting_df = pd.DataFrame([\n",
    "    {\"Painting\":\"Mona Lisa (Knockoff)\", \"Price\":25, \"Popularity\":\"Very Popular\"},\n",
    "    {\"Painting\":\"Van Gogh (Knockoff)\", \"Price\":20, \"Popularity\":\"Popular\"},\n",
    "    {\"Painting\":\"Starving Artist\", \"Price\":10, \"Popularity\":\"Average\"},\n",
    "    {\"Painting\":\"Toddler Drawing\", \"Price\":1, \"Popularity\":\"Not Popular\"}\n",
    "])\n",
    "painting_df"
   ]
  },
  {
   "cell_type": "code",
   "execution_count": null,
   "metadata": {
    "collapsed": true
   },
   "outputs": [],
   "source": []
  }
 ],
 "metadata": {
  "kernelspec": {
   "display_name": "Python [conda env:pythondata]",
   "language": "python",
   "name": "conda-env-pythondata-py"
  },
  "language_info": {
   "codemirror_mode": {
    "name": "ipython",
    "version": 3
   },
   "file_extension": ".py",
   "mimetype": "text/x-python",
   "name": "python",
   "nbconvert_exporter": "python",
   "pygments_lexer": "ipython3",
   "version": "3.6.3"
  }
 },
 "nbformat": 4,
 "nbformat_minor": 2
}
